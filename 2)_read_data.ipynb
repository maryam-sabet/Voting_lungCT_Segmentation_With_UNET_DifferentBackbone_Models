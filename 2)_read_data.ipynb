{
  "nbformat": 4,
  "nbformat_minor": 0,
  "metadata": {
    "colab": {
      "provenance": [],
      "mount_file_id": "1_OnQ1-K6-2s98O17nz6AY6Y22Z1p4Lo5",
      "authorship_tag": "ABX9TyNYzN6TjL8YGkL/uK6RQc7h",
      "include_colab_link": true
    },
    "kernelspec": {
      "name": "python3",
      "display_name": "Python 3"
    },
    "language_info": {
      "name": "python"
    },
    "gpuClass": "standard",
    "accelerator": "GPU"
  },
  "cells": [
    {
      "cell_type": "markdown",
      "metadata": {
        "id": "view-in-github",
        "colab_type": "text"
      },
      "source": [
        "<a href=\"https://colab.research.google.com/github/maryam-sabet/Voting_lungCT_Segmentation_With_UNET_DifferentBackbone_Models/blob/main/2)_read_data.ipynb\" target=\"_parent\"><img src=\"https://colab.research.google.com/assets/colab-badge.svg\" alt=\"Open In Colab\"/></a>"
      ]
    },
    {
      "cell_type": "code",
      "source": [
        "from google.colab import drive\n",
        "drive.mount('/content/drive')"
      ],
      "metadata": {
        "colab": {
          "base_uri": "https://localhost:8080/"
        },
        "id": "eUh1M3RYZ8f0",
        "outputId": "7416ad91-348d-4036-f5c2-e59a16880ded"
      },
      "execution_count": null,
      "outputs": [
        {
          "output_type": "stream",
          "name": "stdout",
          "text": [
            "Drive already mounted at /content/drive; to attempt to forcibly remount, call drive.mount(\"/content/drive\", force_remount=True).\n"
          ]
        }
      ]
    },
    {
      "cell_type": "markdown",
      "source": [
        "#**Libraries**"
      ],
      "metadata": {
        "id": "FhxpWgHZQIJu"
      }
    },
    {
      "cell_type": "code",
      "source": [
        "import numpy as np\n",
        "import pandas as pd\n",
        "import cv2\n",
        "import glob\n",
        "import imageio"
      ],
      "metadata": {
        "id": "T22WI-lDonsh"
      },
      "execution_count": null,
      "outputs": []
    },
    {
      "cell_type": "markdown",
      "source": [
        "#**Loading Data**"
      ],
      "metadata": {
        "id": "lV2c4mTRP-K_"
      }
    },
    {
      "cell_type": "code",
      "source": [
        "#Read path data\n",
        "path_image=glob.glob(\"/content/drive/MyDrive/segmentation /dataset/Lung CT images/Lung CT images/*\")\n",
        "path_image.sort()\n",
        "path_mask=glob.glob(\"/content/drive/MyDrive/segmentation /dataset/Annotations/Annotations/*\")\n",
        "path_mask.sort()"
      ],
      "metadata": {
        "id": "s_Gdfpq1o1wJ"
      },
      "execution_count": null,
      "outputs": []
    },
    {
      "cell_type": "code",
      "source": [
        "print(len(path_image) ,len(path_mask))"
      ],
      "metadata": {
        "id": "-QhWA8JNpnK4"
      },
      "execution_count": null,
      "outputs": []
    },
    {
      "cell_type": "code",
      "source": [
        "data = list()\n",
        "mask = list()\n",
        "\n",
        "for path in path_image:\n",
        "    im = imageio.imread(path)\n",
        "    #turn into standard input\n",
        "    im1=cv2.resize(im,(224,224),interpolation=cv2.INTER_NEAREST)\n",
        "    data.append(im1)\n",
        "\n",
        "for path in path_mask:\n",
        "    im = imageio.imread(path)\n",
        "    im1=cv2.resize(im,(224,224),interpolation=cv2.INTER_NEAREST)\n",
        "    mask.append(im1)"
      ],
      "metadata": {
        "id": "gFDB326Hp8bQ"
      },
      "execution_count": null,
      "outputs": []
    },
    {
      "cell_type": "code",
      "source": [
        "Data =  np.array(data)\n",
        "Mask = np.array(mask)"
      ],
      "metadata": {
        "id": "Szb6t7kEsApY"
      },
      "execution_count": null,
      "outputs": []
    },
    {
      "cell_type": "code",
      "source": [
        "Data = np.save(\"/content/drive/MyDrive/segmentation /dataset/data.npy\",Data)\n",
        "Mask = np.save(\"/content/drive/MyDrive/segmentation /dataset/mask.npy\",Mask)"
      ],
      "metadata": {
        "id": "cOS-_imJtoWa"
      },
      "execution_count": null,
      "outputs": []
    },
    {
      "cell_type": "code",
      "source": [
        "Data = np.load (\"/content/drive/MyDrive/segmentation /dataset/data.npy\")\n",
        "Mask = np.load (\"/content/drive/MyDrive/segmentation /dataset/mask.npy\")"
      ],
      "metadata": {
        "id": "5wrkwcDbR55d"
      },
      "execution_count": null,
      "outputs": []
    },
    {
      "cell_type": "code",
      "source": [
        "print(Data.shape , Mask.shape)"
      ],
      "metadata": {
        "colab": {
          "base_uri": "https://localhost:8080/"
        },
        "id": "rPf1vzoUuj_z",
        "outputId": "2520ab77-36e6-471c-b4e3-3171e56df95e"
      },
      "execution_count": null,
      "outputs": [
        {
          "output_type": "stream",
          "name": "stdout",
          "text": [
            "(1657, 224, 224, 3) (1657, 224, 224, 3)\n"
          ]
        }
      ]
    }
  ]
}
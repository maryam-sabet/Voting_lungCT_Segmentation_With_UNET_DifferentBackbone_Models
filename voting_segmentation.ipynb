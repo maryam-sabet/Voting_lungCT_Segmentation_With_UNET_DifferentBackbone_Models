{
  "nbformat": 4,
  "nbformat_minor": 0,
  "metadata": {
    "colab": {
      "provenance": [],
      "mount_file_id": "1EbIHkE3riqDKApp5p1cuuq5-cCOo0r1s",
      "authorship_tag": "ABX9TyNsEqDr/R6k8c5Z7/UbHrbi",
      "include_colab_link": true
    },
    "kernelspec": {
      "name": "python3",
      "display_name": "Python 3"
    },
    "language_info": {
      "name": "python"
    }
  },
  "cells": [
    {
      "cell_type": "markdown",
      "metadata": {
        "id": "view-in-github",
        "colab_type": "text"
      },
      "source": [
        "<a href=\"https://colab.research.google.com/github/maryam-sabet/Voting_lungCT_Segmentation_With_UNET_DifferentBackbone_Models/blob/main/voting_segmentation.ipynb\" target=\"_parent\"><img src=\"https://colab.research.google.com/assets/colab-badge.svg\" alt=\"Open In Colab\"/></a>"
      ]
    },
    {
      "cell_type": "markdown",
      "source": [
        "#**Libraries**"
      ],
      "metadata": {
        "id": "gGfc-4GtiRaq"
      }
    },
    {
      "cell_type": "code",
      "execution_count": null,
      "metadata": {
        "id": "VzX-eo4KQlQg"
      },
      "outputs": [],
      "source": [
        "import numpy as np\n",
        "from numpy import argmax\n",
        "import pandas as pd\n",
        "import cv2\n",
        "import glob\n",
        "import imageio\n",
        "from google.colab.patches import cv2_imshow\n",
        "import tensorflow as tf\n",
        "import keras\n",
        "from sklearn.model_selection import train_test_split\n",
        "import matplotlib.pyplot as plt\n"
      ]
    },
    {
      "cell_type": "markdown",
      "source": [
        "#**Load UNET Models**"
      ],
      "metadata": {
        "id": "42mTTiv4iXs3"
      }
    },
    {
      "cell_type": "code",
      "source": [
        "model_1 = tf.keras.models.load_model(\"/content/drive/MyDrive/segmentationn/save_model/densenet121.h5\", compile=False)\n",
        "\n",
        "model_2 = tf.keras.models.load_model(\"/content/drive/MyDrive/segmentationn/save_model/inceptionv3.h5\", compile=False)\n",
        "\n",
        "model_3 = tf.keras.models.load_model(\"/content/drive/MyDrive/segmentationn/save_model/mobilenetv2.h5\", compile=False)\n"
      ],
      "metadata": {
        "id": "eJwrudPOQ4KO"
      },
      "execution_count": null,
      "outputs": []
    },
    {
      "cell_type": "code",
      "source": [
        "Data = np.load (\"/content/drive/MyDrive/segmentationn/dataset/data.npy\")\n",
        "Mask = np.load (\"/content/drive/MyDrive/segmentationn/dataset/mask.npy\")\n"
      ],
      "metadata": {
        "id": "tMRnMVCATE_1"
      },
      "execution_count": null,
      "outputs": []
    },
    {
      "cell_type": "code",
      "source": [
        "Data=Data.astype(\"float32\")\n",
        "Mask=Mask.astype(\"float32\")\n",
        "\n",
        "#Normalization\n",
        "Mask=Mask/255\n"
      ],
      "metadata": {
        "id": "RIL1xiENT2WP"
      },
      "execution_count": null,
      "outputs": []
    },
    {
      "cell_type": "code",
      "source": [
        "# Split the data into train and test sets\n",
        "X_train, X_test, y_train, y_test = train_test_split(Data, Mask, test_size=0.2, random_state=42)\n"
      ],
      "metadata": {
        "id": "PRyrnj6FT79s"
      },
      "execution_count": null,
      "outputs": []
    },
    {
      "cell_type": "code",
      "source": [
        "# Perform predictions using loaded models\n",
        "prediction1=model_1.predict(X_test)\n",
        "prediction2=model_2.predict(X_test)\n",
        "prediction3=model_3.predict(X_test)"
      ],
      "metadata": {
        "colab": {
          "base_uri": "https://localhost:8080/"
        },
        "id": "SfRgYRlzUMyR",
        "outputId": "5f163107-bb29-4b6c-d288-8ebd4de8ea06"
      },
      "execution_count": null,
      "outputs": [
        {
          "output_type": "stream",
          "name": "stdout",
          "text": [
            "11/11 [==============================] - 121s 10s/step\n",
            "11/11 [==============================] - 110s 10s/step\n",
            "11/11 [==============================] - 68s 6s/step\n"
          ]
        }
      ]
    },
    {
      "cell_type": "code",
      "source": [
        "print(prediction1.shape , prediction2.shape , prediction3.shape ,y_test.shape )"
      ],
      "metadata": {
        "colab": {
          "base_uri": "https://localhost:8080/"
        },
        "id": "lCS6Dk0mU9Y-",
        "outputId": "bc551d6a-39b3-4b41-c371-a92ac4175370"
      },
      "execution_count": null,
      "outputs": [
        {
          "output_type": "stream",
          "name": "stdout",
          "text": [
            "(332, 224, 224, 1) (332, 224, 224, 1) (332, 224, 224, 1) (332, 224, 224, 3)\n"
          ]
        }
      ]
    },
    {
      "cell_type": "code",
      "source": [
        "# Squeeze predictions\n",
        "prediction1 = prediction1.squeeze()\n",
        "prediction2 = prediction2.squeeze()\n",
        "prediction3 = prediction3.squeeze()"
      ],
      "metadata": {
        "id": "FyOEED6vizi_"
      },
      "execution_count": null,
      "outputs": []
    },
    {
      "cell_type": "code",
      "source": [
        "print(prediction1.shape , prediction2.shape , prediction3.shape ,y_test.shape )"
      ],
      "metadata": {
        "colab": {
          "base_uri": "https://localhost:8080/"
        },
        "id": "6zYhJVdIi7Sz",
        "outputId": "190e0368-128c-40de-f041-c35bd47745b1"
      },
      "execution_count": null,
      "outputs": [
        {
          "output_type": "stream",
          "name": "stdout",
          "text": [
            "(332, 224, 224) (332, 224, 224) (332, 224, 224) (332, 224, 224, 3)\n"
          ]
        }
      ]
    },
    {
      "cell_type": "code",
      "source": [
        "# Display a sample prediction\n",
        "plt.imshow(prediction1[10] ,\"gray\")"
      ],
      "metadata": {
        "colab": {
          "base_uri": "https://localhost:8080/",
          "height": 451
        },
        "id": "8N1Oo_5Qi9UT",
        "outputId": "2ef0cfb8-96be-4cfc-fded-51e9db45b195"
      },
      "execution_count": null,
      "outputs": [
        {
          "output_type": "execute_result",
          "data": {
            "text/plain": [
              "<matplotlib.image.AxesImage at 0x790d64b2ad10>"
            ]
          },
          "metadata": {},
          "execution_count": 10
        },
        {
          "output_type": "display_data",
          "data": {
            "text/plain": [
              "<Figure size 640x480 with 1 Axes>"
            ],
            "image/png": "[encoded data removed]"
          },
          "metadata": {}
        }
      ]
    },
    {
      "cell_type": "code",
      "source": [
        "# Create a list to hold the predictions\n",
        "model=[]\n",
        "model.append(prediction1.round())\n",
        "model.append(prediction2.round())\n",
        "model.append(prediction3.round())"
      ],
      "metadata": {
        "id": "zI72duYOaoc2"
      },
      "execution_count": null,
      "outputs": []
    },
    {
      "cell_type": "code",
      "source": [
        "plt.imshow(model[0][10])"
      ],
      "metadata": {
        "colab": {
          "base_uri": "https://localhost:8080/",
          "height": 451
        },
        "id": "P72ck2XalLMU",
        "outputId": "860df39f-a9a5-420a-8be7-729e27e3f2b4"
      },
      "execution_count": null,
      "outputs": [
        {
          "output_type": "execute_result",
          "data": {
            "text/plain": [
              "<matplotlib.image.AxesImage at 0x790d3b0d2200>"
            ]
          },
          "metadata": {},
          "execution_count": 36
        },
        {
          "output_type": "display_data",
          "data": {
            "text/plain": [
              "<Figure size 640x480 with 1 Axes>"
            ],
            "image/png": "[encoded data removed]"
          },
          "metadata": {}
        }
      ]
    },
    {
      "cell_type": "code",
      "source": [
        "# Display unique values in a sample prediction\n",
        "np.unique(model[0][10], return_counts=True)"
      ],
      "metadata": {
        "colab": {
          "base_uri": "https://localhost:8080/"
        },
        "id": "k9LgowAhaMuV",
        "outputId": "e8a8b5ef-663f-4344-8d1f-11c2aa32fc9f"
      },
      "execution_count": null,
      "outputs": [
        {
          "output_type": "execute_result",
          "data": {
            "text/plain": [
              "(array([0., 1.], dtype=float32), array([50130,    46]))"
            ]
          },
          "metadata": {},
          "execution_count": 37
        }
      ]
    },
    {
      "cell_type": "markdown",
      "source": [
        "#**Voting algorithm for Segmentation**"
      ],
      "metadata": {
        "id": "pP0zdtYVVj5P"
      }
    },
    {
      "cell_type": "code",
      "source": [
        "d=[]\n",
        "f=[]\n",
        "image = np.zeros((224,224))\n",
        "for x in range(len(y_test)):\n",
        "  for i in range(0,224):\n",
        "    for j in range(0,224):\n",
        "      for m in range(len(model)):\n",
        "        if (model[m][x][i,j]==0):\n",
        "          # print(\"******************\")\n",
        "          f.append(0)\n",
        "        if (model[m][x][i,j]==1):\n",
        "          # print(\"//////////////////\")\n",
        "          f.append(1)\n",
        "      if f.count(0)>f.count(1):\n",
        "        image[i,j]=0\n",
        "      else:\n",
        "        image[i,j]=1\n",
        "      f=[]\n",
        "\n",
        "  d.append(image)\n"
      ],
      "metadata": {
        "id": "CQlYOQ6TVitI"
      },
      "execution_count": null,
      "outputs": []
    },
    {
      "cell_type": "code",
      "source": [
        "# Display the shape of the segmentation result\n",
        "d[0].shape"
      ],
      "metadata": {
        "colab": {
          "base_uri": "https://localhost:8080/"
        },
        "id": "bWilFNmxgpiF",
        "outputId": "ecec4acd-08d8-4804-a443-22c6f5f97f59"
      },
      "execution_count": null,
      "outputs": [
        {
          "output_type": "execute_result",
          "data": {
            "text/plain": [
              "(224, 224)"
            ]
          },
          "metadata": {},
          "execution_count": 42
        }
      ]
    },
    {
      "cell_type": "code",
      "source": [
        "# Display a sample segmentation result\n",
        "plt.imshow(d[0], \"gray\")"
      ],
      "metadata": {
        "colab": {
          "base_uri": "https://localhost:8080/",
          "height": 451
        },
        "id": "IbJpxvkEYZxH",
        "outputId": "492d043a-0919-433a-8dbf-70dc2ce5461b"
      },
      "execution_count": null,
      "outputs": [
        {
          "output_type": "execute_result",
          "data": {
            "text/plain": [
              "<matplotlib.image.AxesImage at 0x790d3af6a9b0>"
            ]
          },
          "metadata": {},
          "execution_count": 43
        },
        {
          "output_type": "display_data",
          "data": {
            "text/plain": [
              "<Figure size 640x480 with 1 Axes>"
            ],
            "image/png": "[encoded data removed]"
          },
          "metadata": {}
        }
      ]
    },
    {
      "cell_type": "code",
      "source": [
        "plt.imshow(y_test[10])"
      ],
      "metadata": {
        "colab": {
          "base_uri": "https://localhost:8080/",
          "height": 451
        },
        "id": "F4yarwwJYHN2",
        "outputId": "c13e6f71-9ae0-4ec6-ccd9-dcb568836283"
      },
      "execution_count": null,
      "outputs": [
        {
          "output_type": "execute_result",
          "data": {
            "text/plain": [
              "<matplotlib.image.AxesImage at 0x790d3ae8bfa0>"
            ]
          },
          "metadata": {},
          "execution_count": 46
        },
        {
          "output_type": "display_data",
          "data": {
            "text/plain": [
              "<Figure size 640x480 with 1 Axes>"
            ],
            "image/png": "[encoded data removed]"
          },
          "metadata": {}
        }
      ]
    },
    {
      "cell_type": "code",
      "source": [
        "image = np.zeros((y_test.shape[1],y_test.shape[2],3))\n",
        "image.shape"
      ],
      "metadata": {
        "colab": {
          "base_uri": "https://localhost:8080/"
        },
        "id": "zF5i678NWjst",
        "outputId": "815f1d02-6892-4a9e-f2c6-373bba39a940"
      },
      "execution_count": null,
      "outputs": [
        {
          "output_type": "execute_result",
          "data": {
            "text/plain": [
              "(224, 224, 3)"
            ]
          },
          "metadata": {},
          "execution_count": 23
        }
      ]
    }
  ]
}